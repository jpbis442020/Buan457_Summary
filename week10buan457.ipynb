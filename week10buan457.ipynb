{
 "cells": [
  {
   "cell_type": "code",
   "execution_count": 11,
   "id": "f7e81c81-717a-4188-8c2a-ff947d1dedd0",
   "metadata": {
    "tags": []
   },
   "outputs": [
    {
     "name": "stdout",
     "output_type": "stream",
     "text": [
      "Collecting seaborn\n",
      "  Downloading seaborn-0.13.0-py3-none-any.whl (294 kB)\n",
      "\u001b[2K     \u001b[90m━━━━━━━━━━━━━━━━━━━━━━━━━━━━━━━━━━━━━━━\u001b[0m \u001b[32m294.6/294.6 kB\u001b[0m \u001b[31m4.8 MB/s\u001b[0m eta \u001b[36m0:00:00\u001b[0ma \u001b[36m0:00:01\u001b[0m\n",
      "\u001b[?25hRequirement already satisfied: numpy!=1.24.0,>=1.20 in /Users/Jacques/anaconda3/lib/python3.10/site-packages (from seaborn) (1.25.0)\n",
      "Requirement already satisfied: matplotlib!=3.6.1,>=3.3 in /Users/Jacques/anaconda3/lib/python3.10/site-packages (from seaborn) (3.7.2)\n",
      "Requirement already satisfied: pandas>=1.2 in /Users/Jacques/anaconda3/lib/python3.10/site-packages (from seaborn) (2.0.3)\n",
      "Requirement already satisfied: python-dateutil>=2.7 in /Users/Jacques/.local/lib/python3.10/site-packages (from matplotlib!=3.6.1,>=3.3->seaborn) (2.7.5)\n",
      "Requirement already satisfied: fonttools>=4.22.0 in /Users/Jacques/anaconda3/lib/python3.10/site-packages (from matplotlib!=3.6.1,>=3.3->seaborn) (4.40.0)\n",
      "Requirement already satisfied: pillow>=6.2.0 in /Users/Jacques/anaconda3/lib/python3.10/site-packages (from matplotlib!=3.6.1,>=3.3->seaborn) (9.4.0)\n",
      "Requirement already satisfied: contourpy>=1.0.1 in /Users/Jacques/anaconda3/lib/python3.10/site-packages (from matplotlib!=3.6.1,>=3.3->seaborn) (1.1.0)\n",
      "Requirement already satisfied: pyparsing<3.1,>=2.3.1 in /Users/Jacques/anaconda3/lib/python3.10/site-packages (from matplotlib!=3.6.1,>=3.3->seaborn) (3.0.9)\n",
      "Requirement already satisfied: kiwisolver>=1.0.1 in /Users/Jacques/anaconda3/lib/python3.10/site-packages (from matplotlib!=3.6.1,>=3.3->seaborn) (1.4.4)\n",
      "Requirement already satisfied: cycler>=0.10 in /Users/Jacques/anaconda3/lib/python3.10/site-packages (from matplotlib!=3.6.1,>=3.3->seaborn) (0.11.0)\n",
      "Requirement already satisfied: packaging>=20.0 in /Users/Jacques/anaconda3/lib/python3.10/site-packages (from matplotlib!=3.6.1,>=3.3->seaborn) (23.0)\n",
      "Requirement already satisfied: pytz>=2020.1 in /Users/Jacques/anaconda3/lib/python3.10/site-packages (from pandas>=1.2->seaborn) (2022.7)\n",
      "Collecting python-dateutil>=2.7\n",
      "  Using cached python_dateutil-2.8.2-py2.py3-none-any.whl (247 kB)\n",
      "Requirement already satisfied: tzdata>=2022.1 in /Users/Jacques/anaconda3/lib/python3.10/site-packages (from pandas>=1.2->seaborn) (2023.3)\n",
      "Requirement already satisfied: six>=1.5 in /Users/Jacques/anaconda3/lib/python3.10/site-packages (from python-dateutil>=2.7->matplotlib!=3.6.1,>=3.3->seaborn) (1.16.0)\n",
      "Installing collected packages: python-dateutil, seaborn\n",
      "  Attempting uninstall: python-dateutil\n",
      "    Found existing installation: python-dateutil 2.7.5\n",
      "    Uninstalling python-dateutil-2.7.5:\n",
      "      Successfully uninstalled python-dateutil-2.7.5\n",
      "\u001b[31mERROR: pip's dependency resolver does not currently take into account all the packages that are installed. This behaviour is the source of the following dependency conflicts.\n",
      "conda-repo-cli 1.0.41 requires requests_mock, which is not installed.\n",
      "chatterbot 1.0.4 requires python-dateutil<2.8,>=2.7, but you have python-dateutil 2.8.2 which is incompatible.\n",
      "conda-repo-cli 1.0.41 requires clyent==1.2.1, but you have clyent 1.2.2 which is incompatible.\n",
      "conda-repo-cli 1.0.41 requires nbformat==5.4.0, but you have nbformat 5.7.0 which is incompatible.\n",
      "conda-repo-cli 1.0.41 requires PyYAML==6.0, but you have pyyaml 6.0.1 which is incompatible.\n",
      "conda-repo-cli 1.0.41 requires requests==2.28.1, but you have requests 2.29.0 which is incompatible.\u001b[0m\u001b[31m\n",
      "\u001b[0mSuccessfully installed python-dateutil-2.8.2 seaborn-0.13.0\n"
     ]
    }
   ],
   "source": [
    "!pip install seaborn"
   ]
  },
  {
   "cell_type": "code",
   "execution_count": 2,
   "id": "3e84b2ef-c1a5-4430-972a-649609d4d1d2",
   "metadata": {
    "tags": []
   },
   "outputs": [],
   "source": [
    "import pandas as pd\n",
    "import numpy as np\n",
    "import warnings\n",
    "warnings.filterwarnings('ignore')\n",
    "df=pd.read_csv('aib_phishing.csv')"
   ]
  },
  {
   "cell_type": "code",
   "execution_count": 3,
   "id": "18ac624a-bd5d-4b22-9d72-ad01382a3d41",
   "metadata": {
    "tags": []
   },
   "outputs": [],
   "source": [
    "from sklearn.feature_extraction.text import TfidfVectorizer\n",
    "\n",
    "tfidf_vectorizer = TfidfVectorizer(ngram_range=(2, 3), max_features=200)\n",
    "\n",
    "\n",
    "X_tfidf = tfidf_vectorizer.fit_transform(df['emails'])"
   ]
  },
  {
   "cell_type": "code",
   "execution_count": 4,
   "id": "70529309-ec81-43f5-80ac-6fad5216aa7d",
   "metadata": {
    "tags": []
   },
   "outputs": [],
   "source": [
    "\n",
    "tfidf_vectorizer = TfidfVectorizer(max_features=200)\n",
    "\n",
    "\n",
    "X_tfidf2 = tfidf_vectorizer.fit_transform(df['emails'])"
   ]
  },
  {
   "cell_type": "code",
   "execution_count": 5,
   "id": "a5f481f6-c787-41fc-9165-b8d2339d9d41",
   "metadata": {
    "tags": []
   },
   "outputs": [],
   "source": [
    "from sklearn.model_selection import train_test_split\n",
    "\n",
    "from sklearn.linear_model import LogisticRegression\n",
    "logr = LogisticRegression()\n",
    "\n",
    "from sklearn.ensemble import RandomForestClassifier\n",
    "rforest = RandomForestClassifier()\n",
    "\n",
    "\n",
    "from sklearn.tree import DecisionTreeClassifier\n",
    "dtree=DecisionTreeClassifier()\n",
    "\n",
    "\n",
    "\n",
    "algos = [logr, rforest, dtree]\n",
    "\n",
    "# select evaluation metrics accuracy, balanced accuracy, confusion matrix\n",
    "from sklearn.metrics import balanced_accuracy_score, accuracy_score, confusion_matrix"
   ]
  },
  {
   "cell_type": "code",
   "execution_count": 6,
   "id": "3abb3bb2-b4d6-4596-8427-ab3dcc2785b7",
   "metadata": {
    "tags": []
   },
   "outputs": [],
   "source": [
    "\n",
    "y=df['is_phishing']\n",
    "X_train, X_test, y_train, y_test = train_test_split(X_tfidf, y, test_size=0.3, stratify=y)\n"
   ]
  },
  {
   "cell_type": "code",
   "execution_count": 7,
   "id": "3e4ca4b4-a725-4d54-8eda-e078160ba763",
   "metadata": {
    "tags": []
   },
   "outputs": [
    {
     "name": "stdout",
     "output_type": "stream",
     "text": [
      "LogisticRegression\n",
      "0.8844632768361582\n",
      "\n",
      "RandomForestClassifier\n",
      "0.8925113548244157\n",
      "\n",
      "DecisionTreeClassifier\n",
      "0.8608563199291015\n",
      "\n"
     ]
    }
   ],
   "source": [
    "results_data = []\n",
    "\n",
    "for algo in algos:\n",
    "    algo.fit(X_train, y_train)\n",
    "    y_test_pred = algo.predict(X_test)\n",
    "\n",
    "    algo_name = type(algo).__name__\n",
    "    balanced_accuracy = balanced_accuracy_score(y_test, y_test_pred)\n",
    "\n",
    "    # Print the results\n",
    "    print(algo_name)\n",
    "    print(balanced_accuracy)\n",
    "    print()\n",
    "\n",
    "    # Store the data in a dictionary\n",
    "    result_dict = {'Algorithm': algo_name, 'Any Sentence Transformer of your choice': balanced_accuracy}\n",
    "    results_data.append(result_dict)\n",
    "\n",
    "# Create a DataFrame from the list of dictionaries\n",
    "results_df = pd.DataFrame(results_data)\n",
    "\n",
    "# Display the DataFrame"
   ]
  },
  {
   "cell_type": "code",
   "execution_count": 8,
   "id": "1966a3be-da7b-44ea-9f0d-35e155c6db05",
   "metadata": {
    "tags": []
   },
   "outputs": [],
   "source": [
    "y=df['is_phishing']\n",
    "X_train, X_test, y_train, y_test = train_test_split(X_tfidf2, y, test_size=0.3, stratify=y)"
   ]
  },
  {
   "cell_type": "code",
   "execution_count": 9,
   "id": "8d12f077-f898-4edf-ae2c-0da068bcbfe6",
   "metadata": {
    "tags": []
   },
   "outputs": [
    {
     "name": "stdout",
     "output_type": "stream",
     "text": [
      "LogisticRegression\n",
      "0.94214024592888\n",
      "\n",
      "RandomForestClassifier\n",
      "0.9566633433034231\n",
      "\n",
      "DecisionTreeClassifier\n",
      "0.906547025589897\n",
      "\n"
     ]
    }
   ],
   "source": [
    "results_data = []\n",
    "\n",
    "for algo in algos:\n",
    "    algo.fit(X_train, y_train)\n",
    "    y_test_pred = algo.predict(X_test)\n",
    "\n",
    "    algo_name = type(algo).__name__\n",
    "    balanced_accuracy = balanced_accuracy_score(y_test, y_test_pred)\n",
    "\n",
    "    # Print the results\n",
    "    print(algo_name)\n",
    "    print(balanced_accuracy)\n",
    "    print()\n",
    "\n",
    "    # Store the data in a dictionary\n",
    "    result_dict = {'Algorithm': algo_name, 'Any Sentence Transformer of your choice': balanced_accuracy}\n",
    "    results_data.append(result_dict)\n",
    "\n",
    "# Create a DataFrame from the list of dictionaries\n",
    "results_df = pd.DataFrame(results_data)\n",
    "\n",
    "# Display the DataFrame"
   ]
  },
  {
   "cell_type": "code",
   "execution_count": 12,
   "id": "7707883b-ccab-487f-9627-42db3186a4fc",
   "metadata": {
    "tags": []
   },
   "outputs": [
    {
     "data": {
      "image/png": "[encoded data removed]",
      "text/plain": [
       "<Figure size 640x480 with 1 Axes>"
      ]
     },
     "metadata": {},
     "output_type": "display_data"
    }
   ],
   "source": [
    "import seaborn as sns\n",
    "import matplotlib.pyplot as plt\n",
    "\n",
    "from sklearn.cluster import KMeans\n",
    "new_data = X_tfidf.copy()\n",
    "inertias = []\n",
    "\n",
    "for i in range(1,20):\n",
    "    kmeans = KMeans(n_clusters=i)\n",
    "    kmeans.fit(new_data)\n",
    "    inertias.append(kmeans.inertia_)\n",
    "\n",
    "plt.plot(range(1,20), inertias, marker='o')\n",
    "plt.title('Elbow method')\n",
    "plt.xlabel('Number of clusters')\n",
    "plt.ylabel('Inertia')\n",
    "plt.show()\n",
    "\n",
    "#8"
   ]
  },
  {
   "cell_type": "code",
   "execution_count": 13,
   "id": "7d3323cc-248d-4098-9bda-bdcbfafed1ae",
   "metadata": {
    "tags": []
   },
   "outputs": [
    {
     "data": {
      "image/png": "[encoded data removed]",
      "text/plain": [
       "<Figure size 640x480 with 1 Axes>"
      ]
     },
     "metadata": {},
     "output_type": "display_data"
    }
   ],
   "source": [
    "import seaborn as sns\n",
    "import matplotlib.pyplot as plt\n",
    "\n",
    "from sklearn.cluster import KMeans\n",
    "new_data2 = X_tfidf2.copy()\n",
    "inertias = []\n",
    "\n",
    "for i in range(1,20):\n",
    "    kmeans = KMeans(n_clusters=i)\n",
    "    kmeans.fit(new_data2)\n",
    "    inertias.append(kmeans.inertia_)\n",
    "\n",
    "plt.plot(range(1,20), inertias, marker='o')\n",
    "plt.title('Elbow method')\n",
    "plt.xlabel('Number of clusters')\n",
    "plt.ylabel('Inertia')\n",
    "plt.show()\n",
    "\n",
    "#10"
   ]
  },
  {
   "cell_type": "code",
   "execution_count": 14,
   "id": "abe19bdd-a5e4-4feb-95ea-43373691f691",
   "metadata": {
    "tags": []
   },
   "outputs": [
    {
     "ename": "IndexError",
     "evalue": "Index dimension must be 1 or 2",
     "output_type": "error",
     "traceback": [
      "\u001b[0;31m---------------------------------------------------------------------------\u001b[0m",
      "\u001b[0;31mIndexError\u001b[0m                                Traceback (most recent call last)",
      "Cell \u001b[0;32mIn[14], line 3\u001b[0m\n\u001b[1;32m      1\u001b[0m kmeans\u001b[38;5;241m=\u001b[39mKMeans(n_clusters\u001b[38;5;241m=\u001b[39m\u001b[38;5;241m8\u001b[39m)\n\u001b[1;32m      2\u001b[0m kmeans\u001b[38;5;241m.\u001b[39mfit(new_data)\n\u001b[0;32m----> 3\u001b[0m new_data[\u001b[38;5;124m'\u001b[39m\u001b[38;5;124mk_labels\u001b[39m\u001b[38;5;124m'\u001b[39m]\u001b[38;5;241m=\u001b[39mkmeans\u001b[38;5;241m.\u001b[39mlabels_\n\u001b[1;32m      4\u001b[0m new_data[\u001b[38;5;124m'\u001b[39m\u001b[38;5;124mk_labels\u001b[39m\u001b[38;5;124m'\u001b[39m]\u001b[38;5;241m.\u001b[39mvalue_counts()\n",
      "File \u001b[0;32m~/anaconda3/lib/python3.10/site-packages/scipy/sparse/_index.py:94\u001b[0m, in \u001b[0;36mIndexMixin.__setitem__\u001b[0;34m(self, key, x)\u001b[0m\n\u001b[1;32m     93\u001b[0m \u001b[38;5;28;01mdef\u001b[39;00m \u001b[38;5;21m__setitem__\u001b[39m(\u001b[38;5;28mself\u001b[39m, key, x):\n\u001b[0;32m---> 94\u001b[0m     row, col \u001b[38;5;241m=\u001b[39m \u001b[38;5;28;43mself\u001b[39;49m\u001b[38;5;241;43m.\u001b[39;49m\u001b[43m_validate_indices\u001b[49m\u001b[43m(\u001b[49m\u001b[43mkey\u001b[49m\u001b[43m)\u001b[49m\n\u001b[1;32m     96\u001b[0m     \u001b[38;5;28;01mif\u001b[39;00m \u001b[38;5;28misinstance\u001b[39m(row, INT_TYPES) \u001b[38;5;129;01mand\u001b[39;00m \u001b[38;5;28misinstance\u001b[39m(col, INT_TYPES):\n\u001b[1;32m     97\u001b[0m         x \u001b[38;5;241m=\u001b[39m np\u001b[38;5;241m.\u001b[39masarray(x, dtype\u001b[38;5;241m=\u001b[39m\u001b[38;5;28mself\u001b[39m\u001b[38;5;241m.\u001b[39mdtype)\n",
      "File \u001b[0;32m~/anaconda3/lib/python3.10/site-packages/scipy/sparse/_index.py:156\u001b[0m, in \u001b[0;36mIndexMixin._validate_indices\u001b[0;34m(self, key)\u001b[0m\n\u001b[1;32m    154\u001b[0m         row \u001b[38;5;241m+\u001b[39m\u001b[38;5;241m=\u001b[39m M\n\u001b[1;32m    155\u001b[0m \u001b[38;5;28;01melif\u001b[39;00m \u001b[38;5;129;01mnot\u001b[39;00m \u001b[38;5;28misinstance\u001b[39m(row, \u001b[38;5;28mslice\u001b[39m):\n\u001b[0;32m--> 156\u001b[0m     row \u001b[38;5;241m=\u001b[39m \u001b[38;5;28;43mself\u001b[39;49m\u001b[38;5;241;43m.\u001b[39;49m\u001b[43m_asindices\u001b[49m\u001b[43m(\u001b[49m\u001b[43mrow\u001b[49m\u001b[43m,\u001b[49m\u001b[43m \u001b[49m\u001b[43mM\u001b[49m\u001b[43m)\u001b[49m\n\u001b[1;32m    158\u001b[0m \u001b[38;5;28;01mif\u001b[39;00m isintlike(col):\n\u001b[1;32m    159\u001b[0m     col \u001b[38;5;241m=\u001b[39m \u001b[38;5;28mint\u001b[39m(col)\n",
      "File \u001b[0;32m~/anaconda3/lib/python3.10/site-packages/scipy/sparse/_index.py:180\u001b[0m, in \u001b[0;36mIndexMixin._asindices\u001b[0;34m(self, idx, length)\u001b[0m\n\u001b[1;32m    177\u001b[0m     \u001b[38;5;28;01mraise\u001b[39;00m \u001b[38;5;167;01mIndexError\u001b[39;00m(\u001b[38;5;124m'\u001b[39m\u001b[38;5;124minvalid index\u001b[39m\u001b[38;5;124m'\u001b[39m) \u001b[38;5;28;01mfrom\u001b[39;00m \u001b[38;5;21;01me\u001b[39;00m\n\u001b[1;32m    179\u001b[0m \u001b[38;5;28;01mif\u001b[39;00m x\u001b[38;5;241m.\u001b[39mndim \u001b[38;5;129;01mnot\u001b[39;00m \u001b[38;5;129;01min\u001b[39;00m (\u001b[38;5;241m1\u001b[39m, \u001b[38;5;241m2\u001b[39m):\n\u001b[0;32m--> 180\u001b[0m     \u001b[38;5;28;01mraise\u001b[39;00m \u001b[38;5;167;01mIndexError\u001b[39;00m(\u001b[38;5;124m'\u001b[39m\u001b[38;5;124mIndex dimension must be 1 or 2\u001b[39m\u001b[38;5;124m'\u001b[39m)\n\u001b[1;32m    182\u001b[0m \u001b[38;5;28;01mif\u001b[39;00m x\u001b[38;5;241m.\u001b[39msize \u001b[38;5;241m==\u001b[39m \u001b[38;5;241m0\u001b[39m:\n\u001b[1;32m    183\u001b[0m     \u001b[38;5;28;01mreturn\u001b[39;00m x\n",
      "\u001b[0;31mIndexError\u001b[0m: Index dimension must be 1 or 2"
     ]
    }
   ],
   "source": [
    "kmeans=KMeans(n_clusters=8)\n",
    "kmeans.fit(new_data)\n",
    "new_data['k_labels']=kmeans.labels_\n",
    "new_data['k_labels'].value_counts()\n"
   ]
  },
  {
   "cell_type": "code",
   "execution_count": null,
   "id": "201a45ae-4007-44e6-ba5f-247697e074b7",
   "metadata": {},
   "outputs": [],
   "source": [
    "mlp = MLPClassifier()\n",
    "for k in range(len(new_data['k_labels'].unique())):\n",
    "  z=new_data.copy()\n",
    "  k_data=z[z['k_labels']==k]\n",
    "  print('classification for cluster:',k)\n",
    "  print('sample size:',k_data.shape[0])\n",
    "  X= k_data.drop(['k_labels','is_phishing'],1)\n",
    "  y=k_data['is_phishing']\n",
    "\n",
    "\n",
    "  X_train, X_test, y_train, y_test = train_test_split(X, y, test_size=0.3, stratify=y)\n",
    "\n",
    "  mlp.fit(X_train, y_train)\n",
    "  y_test_pred = mlp.predict(X_test)\n",
    "  print(type(mlp).__name__)\n",
    "  print(balanced_accuracy_score(y_test, y_test_pred))\n",
    "  print()\n"
   ]
  }
 ],
 "metadata": {
  "kernelspec": {
   "display_name": "Python 3 (ipykernel)",
   "language": "python",
   "name": "python3"
  },
  "language_info": {
   "codemirror_mode": {
    "name": "ipython",
    "version": 3
   },
   "file_extension": ".py",
   "mimetype": "text/x-python",
   "name": "python",
   "nbconvert_exporter": "python",
   "pygments_lexer": "ipython3",
   "version": "3.10.9"
  }
 },
 "nbformat": 4,
 "nbformat_minor": 5
}
